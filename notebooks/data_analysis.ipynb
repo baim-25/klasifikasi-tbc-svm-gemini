{
 "cells": [
  {
   "cell_type": "markdown",
   "id": "97a5c5a9",
   "metadata": {},
   "source": [
    "# Pemahaman Data (Data Understanding)\n",
    "\n",
    "## 1. Deskripsi Dataset\n",
    "Dataset yang digunakan dalam penelitian ini merupakan data pasien yang terdiri atas 20.000 entri. Setiap entri merepresentasikan informasi medis dari seorang pasien, dengan tujuan untuk mengidentifikasi apakah pasien tersebut mengidap penyakit Tuberculosis (TBC) atau tidak (Normal).\n",
    "\n",
    "Dataset ini memiliki 15 kolom, termasuk 14 fitur (variabel input) dan 1 kolom target (`Class`). Berikut adalah beberapa fitur penting dalam dataset:\n",
    "\n",
    "- `Age`: Usia pasien\n",
    "- `Gender`: Jenis kelamin\n",
    "- `Chest_Pain`: Keluhan nyeri dada\n",
    "- `Cough_Severity`: Tingkat keparahan batuk (skala numerik)\n",
    "- `Breathlessness`: Tingkat sesak napas (skala numerik)\n",
    "- `Fatigue`: Tingkat kelelahan (skala numerik)\n",
    "- `Weight_Loss`: Penurunan berat badan (dalam satuan kg)\n",
    "- `Fever`: Tingkat demam (Mild, Moderate, High)\n",
    "- `Night_Sweats`: Keluhan berkeringat di malam hari\n",
    "- `Sputum_Production`: Produksi dahak (Rendah, Sedang, Tinggi)\n",
    "- `Blood_in_Sputum`: Adanya darah dalam dahak\n",
    "- `Smoking_History`: Riwayat merokok\n",
    "- `Previous_TB_History`: Riwayat pernah mengidap TBC sebelumnya\n",
    "- `Class`: Label target, terdiri dari dua kelas yaitu `Normal` dan `Tuberculosis`\n",
    "\n",
    "## 2. Struktur dan Dimensi Dataset\n",
    "Dataset ini terdiri dari 20.000 baris dan 15 kolom. Tidak terdapat data yang hilang (missing value) pada seluruh kolom, sehingga proses imputasi tidak diperlukan.\n",
    "\n",
    "## 3. Distribusi Kelas\n",
    "Distribusi data pada kolom `Class` menunjukkan bahwa jumlah data kelas `Normal` sebanyak 14.082 entri (70,4%), sedangkan kelas `Tuberculosis` sebanyak 5.918 entri (29,6%). Ini menunjukkan adanya ketidakseimbangan kelas (class imbalance) yang perlu ditangani pada tahap preprocessing agar model tidak bias terhadap kelas mayoritas.\n",
    "\n",
    "## 4. Tipe Data\n",
    "Terdapat kombinasi tipe data numerik dan kategorikal. Kolom numerik seperti `Age`, `Cough_Severity`, `Breathlessness`, `Fatigue`, dan `Weight_Loss` akan memerlukan proses normalisasi. Sementara itu, kolom kategorikal seperti `Gender`, `Fever`, dan `Smoking_History` akan dikonversi menggunakan teknik encoding.\n",
    "\n",
    "## 5. Statistik Deskriptif\n",
    "Secara umum, nilai-nilai pada fitur numerik memiliki rentang yang berbeda-beda. Misalnya, usia pasien berkisar antara 18 hingga 89 tahun, sementara tingkat keparahan batuk dan kelelahan memiliki skala 0–9. Penyesuaian skala dengan StandardScaler atau metode serupa diperlukan agar model tidak bias terhadap fitur dengan rentang nilai besar.\n",
    "\n",
    "## 6. Visualisasi Data\n",
    "Visualisasi awal seperti distribusi kelas dan heatmap korelasi antar fitur numerik digunakan untuk memahami pola umum dalam data. Korelasi yang tinggi antar fitur bisa menjadi indikasi redundansi, yang dapat dipertimbangkan untuk reduksi dimensi pada tahap selanjutnya.\n",
    "\n",
    "## 7. Kesimpulan Awal\n",
    "Dari hasil pemahaman data, dapat disimpulkan bahwa dataset ini cukup bersih dan kaya akan fitur yang relevan. Namun, perlu dilakukan penanganan terhadap ketidakseimbangan kelas dan penyesuaian data kategorikal serta numerik sebelum dilakukan pelatihan model.\n",
    "\n",
    "Langkah selanjutnya adalah melakukan preprocessing data untuk mempersiapkannya dalam pelatihan model klasifikasi menggunakan algoritma Support Vector Machine (SVM).\n"
   ]
  },
  {
   "cell_type": "markdown",
   "id": "38ecec05",
   "metadata": {},
   "source": [
    "---------------------------------------------------"
   ]
  },
  {
   "cell_type": "markdown",
   "id": "98fddc67",
   "metadata": {},
   "source": [
    "Membaca dataset dengan pandas dan menampilkan 5 data pertama"
   ]
  },
  {
   "cell_type": "code",
   "execution_count": 7,
   "id": "7e3f2c49",
   "metadata": {},
   "outputs": [
    {
     "data": {
      "text/html": [
       "<div>\n",
       "<style scoped>\n",
       "    .dataframe tbody tr th:only-of-type {\n",
       "        vertical-align: middle;\n",
       "    }\n",
       "\n",
       "    .dataframe tbody tr th {\n",
       "        vertical-align: top;\n",
       "    }\n",
       "\n",
       "    .dataframe thead th {\n",
       "        text-align: right;\n",
       "    }\n",
       "</style>\n",
       "<table border=\"1\" class=\"dataframe\">\n",
       "  <thead>\n",
       "    <tr style=\"text-align: right;\">\n",
       "      <th></th>\n",
       "      <th>Patient_ID</th>\n",
       "      <th>Age</th>\n",
       "      <th>Gender</th>\n",
       "      <th>Chest_Pain</th>\n",
       "      <th>Cough_Severity</th>\n",
       "      <th>Breathlessness</th>\n",
       "      <th>Fatigue</th>\n",
       "      <th>Weight_Loss</th>\n",
       "      <th>Fever</th>\n",
       "      <th>Night_Sweats</th>\n",
       "      <th>Sputum_Production</th>\n",
       "      <th>Blood_in_Sputum</th>\n",
       "      <th>Smoking_History</th>\n",
       "      <th>Previous_TB_History</th>\n",
       "      <th>Class</th>\n",
       "    </tr>\n",
       "  </thead>\n",
       "  <tbody>\n",
       "    <tr>\n",
       "      <th>0</th>\n",
       "      <td>PID000001</td>\n",
       "      <td>69</td>\n",
       "      <td>Male</td>\n",
       "      <td>Yes</td>\n",
       "      <td>1</td>\n",
       "      <td>2</td>\n",
       "      <td>3</td>\n",
       "      <td>2.37</td>\n",
       "      <td>Moderate</td>\n",
       "      <td>Yes</td>\n",
       "      <td>Medium</td>\n",
       "      <td>Yes</td>\n",
       "      <td>Former</td>\n",
       "      <td>Yes</td>\n",
       "      <td>Normal</td>\n",
       "    </tr>\n",
       "    <tr>\n",
       "      <th>1</th>\n",
       "      <td>PID000002</td>\n",
       "      <td>32</td>\n",
       "      <td>Female</td>\n",
       "      <td>Yes</td>\n",
       "      <td>3</td>\n",
       "      <td>0</td>\n",
       "      <td>9</td>\n",
       "      <td>6.09</td>\n",
       "      <td>Moderate</td>\n",
       "      <td>No</td>\n",
       "      <td>Medium</td>\n",
       "      <td>No</td>\n",
       "      <td>Current</td>\n",
       "      <td>Yes</td>\n",
       "      <td>Normal</td>\n",
       "    </tr>\n",
       "    <tr>\n",
       "      <th>2</th>\n",
       "      <td>PID000003</td>\n",
       "      <td>89</td>\n",
       "      <td>Male</td>\n",
       "      <td>No</td>\n",
       "      <td>7</td>\n",
       "      <td>0</td>\n",
       "      <td>3</td>\n",
       "      <td>2.86</td>\n",
       "      <td>Mild</td>\n",
       "      <td>Yes</td>\n",
       "      <td>Medium</td>\n",
       "      <td>No</td>\n",
       "      <td>Current</td>\n",
       "      <td>No</td>\n",
       "      <td>Tuberculosis</td>\n",
       "    </tr>\n",
       "    <tr>\n",
       "      <th>3</th>\n",
       "      <td>PID000004</td>\n",
       "      <td>78</td>\n",
       "      <td>Female</td>\n",
       "      <td>Yes</td>\n",
       "      <td>2</td>\n",
       "      <td>0</td>\n",
       "      <td>6</td>\n",
       "      <td>4.57</td>\n",
       "      <td>Moderate</td>\n",
       "      <td>No</td>\n",
       "      <td>High</td>\n",
       "      <td>Yes</td>\n",
       "      <td>Never</td>\n",
       "      <td>Yes</td>\n",
       "      <td>Tuberculosis</td>\n",
       "    </tr>\n",
       "    <tr>\n",
       "      <th>4</th>\n",
       "      <td>PID000005</td>\n",
       "      <td>38</td>\n",
       "      <td>Male</td>\n",
       "      <td>No</td>\n",
       "      <td>7</td>\n",
       "      <td>2</td>\n",
       "      <td>5</td>\n",
       "      <td>13.86</td>\n",
       "      <td>High</td>\n",
       "      <td>Yes</td>\n",
       "      <td>Low</td>\n",
       "      <td>No</td>\n",
       "      <td>Never</td>\n",
       "      <td>Yes</td>\n",
       "      <td>Tuberculosis</td>\n",
       "    </tr>\n",
       "  </tbody>\n",
       "</table>\n",
       "</div>"
      ],
      "text/plain": [
       "  Patient_ID  Age  Gender Chest_Pain  Cough_Severity  Breathlessness  Fatigue  \\\n",
       "0  PID000001   69    Male        Yes               1               2        3   \n",
       "1  PID000002   32  Female        Yes               3               0        9   \n",
       "2  PID000003   89    Male         No               7               0        3   \n",
       "3  PID000004   78  Female        Yes               2               0        6   \n",
       "4  PID000005   38    Male         No               7               2        5   \n",
       "\n",
       "   Weight_Loss     Fever Night_Sweats Sputum_Production Blood_in_Sputum  \\\n",
       "0         2.37  Moderate          Yes            Medium             Yes   \n",
       "1         6.09  Moderate           No            Medium              No   \n",
       "2         2.86      Mild          Yes            Medium              No   \n",
       "3         4.57  Moderate           No              High             Yes   \n",
       "4        13.86      High          Yes               Low              No   \n",
       "\n",
       "  Smoking_History Previous_TB_History         Class  \n",
       "0          Former                 Yes        Normal  \n",
       "1         Current                 Yes        Normal  \n",
       "2         Current                  No  Tuberculosis  \n",
       "3           Never                 Yes  Tuberculosis  \n",
       "4           Never                 Yes  Tuberculosis  "
      ]
     },
     "execution_count": 7,
     "metadata": {},
     "output_type": "execute_result"
    }
   ],
   "source": [
    "import pandas as pd\n",
    "\n",
    "df = pd.read_csv('../data/tuberculosis_xray_dataset.csv')\n",
    "df.head()"
   ]
  },
  {
   "cell_type": "markdown",
   "id": "c0678bbc",
   "metadata": {},
   "source": [
    "Menampilkan 5 data terakhir"
   ]
  },
  {
   "cell_type": "code",
   "execution_count": 8,
   "id": "369399a5",
   "metadata": {},
   "outputs": [
    {
     "data": {
      "text/html": [
       "<div>\n",
       "<style scoped>\n",
       "    .dataframe tbody tr th:only-of-type {\n",
       "        vertical-align: middle;\n",
       "    }\n",
       "\n",
       "    .dataframe tbody tr th {\n",
       "        vertical-align: top;\n",
       "    }\n",
       "\n",
       "    .dataframe thead th {\n",
       "        text-align: right;\n",
       "    }\n",
       "</style>\n",
       "<table border=\"1\" class=\"dataframe\">\n",
       "  <thead>\n",
       "    <tr style=\"text-align: right;\">\n",
       "      <th></th>\n",
       "      <th>Patient_ID</th>\n",
       "      <th>Age</th>\n",
       "      <th>Gender</th>\n",
       "      <th>Chest_Pain</th>\n",
       "      <th>Cough_Severity</th>\n",
       "      <th>Breathlessness</th>\n",
       "      <th>Fatigue</th>\n",
       "      <th>Weight_Loss</th>\n",
       "      <th>Fever</th>\n",
       "      <th>Night_Sweats</th>\n",
       "      <th>Sputum_Production</th>\n",
       "      <th>Blood_in_Sputum</th>\n",
       "      <th>Smoking_History</th>\n",
       "      <th>Previous_TB_History</th>\n",
       "      <th>Class</th>\n",
       "    </tr>\n",
       "  </thead>\n",
       "  <tbody>\n",
       "    <tr>\n",
       "      <th>19995</th>\n",
       "      <td>PID019996</td>\n",
       "      <td>53</td>\n",
       "      <td>Male</td>\n",
       "      <td>No</td>\n",
       "      <td>0</td>\n",
       "      <td>4</td>\n",
       "      <td>6</td>\n",
       "      <td>11.72</td>\n",
       "      <td>Moderate</td>\n",
       "      <td>Yes</td>\n",
       "      <td>Medium</td>\n",
       "      <td>No</td>\n",
       "      <td>Never</td>\n",
       "      <td>Yes</td>\n",
       "      <td>Normal</td>\n",
       "    </tr>\n",
       "    <tr>\n",
       "      <th>19996</th>\n",
       "      <td>PID019997</td>\n",
       "      <td>27</td>\n",
       "      <td>Female</td>\n",
       "      <td>No</td>\n",
       "      <td>3</td>\n",
       "      <td>1</td>\n",
       "      <td>1</td>\n",
       "      <td>5.67</td>\n",
       "      <td>Moderate</td>\n",
       "      <td>Yes</td>\n",
       "      <td>Low</td>\n",
       "      <td>Yes</td>\n",
       "      <td>Current</td>\n",
       "      <td>Yes</td>\n",
       "      <td>Tuberculosis</td>\n",
       "    </tr>\n",
       "    <tr>\n",
       "      <th>19997</th>\n",
       "      <td>PID019998</td>\n",
       "      <td>23</td>\n",
       "      <td>Male</td>\n",
       "      <td>No</td>\n",
       "      <td>1</td>\n",
       "      <td>2</td>\n",
       "      <td>8</td>\n",
       "      <td>3.91</td>\n",
       "      <td>High</td>\n",
       "      <td>Yes</td>\n",
       "      <td>Low</td>\n",
       "      <td>Yes</td>\n",
       "      <td>Never</td>\n",
       "      <td>No</td>\n",
       "      <td>Normal</td>\n",
       "    </tr>\n",
       "    <tr>\n",
       "      <th>19998</th>\n",
       "      <td>PID019999</td>\n",
       "      <td>24</td>\n",
       "      <td>Female</td>\n",
       "      <td>No</td>\n",
       "      <td>8</td>\n",
       "      <td>4</td>\n",
       "      <td>6</td>\n",
       "      <td>8.77</td>\n",
       "      <td>Moderate</td>\n",
       "      <td>Yes</td>\n",
       "      <td>Medium</td>\n",
       "      <td>Yes</td>\n",
       "      <td>Never</td>\n",
       "      <td>Yes</td>\n",
       "      <td>Normal</td>\n",
       "    </tr>\n",
       "    <tr>\n",
       "      <th>19999</th>\n",
       "      <td>PID020000</td>\n",
       "      <td>48</td>\n",
       "      <td>Male</td>\n",
       "      <td>No</td>\n",
       "      <td>9</td>\n",
       "      <td>4</td>\n",
       "      <td>4</td>\n",
       "      <td>4.84</td>\n",
       "      <td>High</td>\n",
       "      <td>No</td>\n",
       "      <td>High</td>\n",
       "      <td>No</td>\n",
       "      <td>Never</td>\n",
       "      <td>Yes</td>\n",
       "      <td>Normal</td>\n",
       "    </tr>\n",
       "  </tbody>\n",
       "</table>\n",
       "</div>"
      ],
      "text/plain": [
       "      Patient_ID  Age  Gender Chest_Pain  Cough_Severity  Breathlessness  \\\n",
       "19995  PID019996   53    Male         No               0               4   \n",
       "19996  PID019997   27  Female         No               3               1   \n",
       "19997  PID019998   23    Male         No               1               2   \n",
       "19998  PID019999   24  Female         No               8               4   \n",
       "19999  PID020000   48    Male         No               9               4   \n",
       "\n",
       "       Fatigue  Weight_Loss     Fever Night_Sweats Sputum_Production  \\\n",
       "19995        6        11.72  Moderate          Yes            Medium   \n",
       "19996        1         5.67  Moderate          Yes               Low   \n",
       "19997        8         3.91      High          Yes               Low   \n",
       "19998        6         8.77  Moderate          Yes            Medium   \n",
       "19999        4         4.84      High           No              High   \n",
       "\n",
       "      Blood_in_Sputum Smoking_History Previous_TB_History         Class  \n",
       "19995              No           Never                 Yes        Normal  \n",
       "19996             Yes         Current                 Yes  Tuberculosis  \n",
       "19997             Yes           Never                  No        Normal  \n",
       "19998             Yes           Never                 Yes        Normal  \n",
       "19999              No           Never                 Yes        Normal  "
      ]
     },
     "execution_count": 8,
     "metadata": {},
     "output_type": "execute_result"
    }
   ],
   "source": [
    "df.tail()"
   ]
  },
  {
   "cell_type": "markdown",
   "id": "6c8dafb9",
   "metadata": {},
   "source": [
    "Mengecek struktur dataset (jumlah baris dan kolom)"
   ]
  },
  {
   "cell_type": "code",
   "execution_count": 9,
   "id": "5ca364d3",
   "metadata": {},
   "outputs": [
    {
     "data": {
      "text/plain": [
       "(20000, 15)"
      ]
     },
     "execution_count": 9,
     "metadata": {},
     "output_type": "execute_result"
    }
   ],
   "source": [
    "df.shape"
   ]
  },
  {
   "cell_type": "markdown",
   "id": "d1e7968a",
   "metadata": {},
   "source": [
    "Menampilkan informasi dataset"
   ]
  },
  {
   "cell_type": "code",
   "execution_count": 10,
   "id": "3597d381",
   "metadata": {},
   "outputs": [
    {
     "name": "stdout",
     "output_type": "stream",
     "text": [
      "<class 'pandas.core.frame.DataFrame'>\n",
      "RangeIndex: 20000 entries, 0 to 19999\n",
      "Data columns (total 15 columns):\n",
      " #   Column               Non-Null Count  Dtype  \n",
      "---  ------               --------------  -----  \n",
      " 0   Patient_ID           20000 non-null  object \n",
      " 1   Age                  20000 non-null  int64  \n",
      " 2   Gender               20000 non-null  object \n",
      " 3   Chest_Pain           20000 non-null  object \n",
      " 4   Cough_Severity       20000 non-null  int64  \n",
      " 5   Breathlessness       20000 non-null  int64  \n",
      " 6   Fatigue              20000 non-null  int64  \n",
      " 7   Weight_Loss          20000 non-null  float64\n",
      " 8   Fever                20000 non-null  object \n",
      " 9   Night_Sweats         20000 non-null  object \n",
      " 10  Sputum_Production    20000 non-null  object \n",
      " 11  Blood_in_Sputum      20000 non-null  object \n",
      " 12  Smoking_History      20000 non-null  object \n",
      " 13  Previous_TB_History  20000 non-null  object \n",
      " 14  Class                20000 non-null  object \n",
      "dtypes: float64(1), int64(4), object(10)\n",
      "memory usage: 2.3+ MB\n"
     ]
    }
   ],
   "source": [
    "df.info()"
   ]
  },
  {
   "cell_type": "markdown",
   "id": "f99def96",
   "metadata": {},
   "source": [
    "Mengecek perbandingan jumlah kelas Tuberculosis dan Normal pada kolom `Class`"
   ]
  },
  {
   "cell_type": "code",
   "execution_count": 11,
   "id": "1139e517",
   "metadata": {},
   "outputs": [
    {
     "data": {
      "text/plain": [
       "Class\n",
       "Normal          14082\n",
       "Tuberculosis     5918\n",
       "Name: count, dtype: int64"
      ]
     },
     "execution_count": 11,
     "metadata": {},
     "output_type": "execute_result"
    }
   ],
   "source": [
    "df['Class'].value_counts()"
   ]
  },
  {
   "cell_type": "markdown",
   "id": "41649517",
   "metadata": {},
   "source": [
    "Statistika deskriptif"
   ]
  },
  {
   "cell_type": "code",
   "execution_count": 12,
   "id": "8c7a8b39",
   "metadata": {},
   "outputs": [
    {
     "data": {
      "text/html": [
       "<div>\n",
       "<style scoped>\n",
       "    .dataframe tbody tr th:only-of-type {\n",
       "        vertical-align: middle;\n",
       "    }\n",
       "\n",
       "    .dataframe tbody tr th {\n",
       "        vertical-align: top;\n",
       "    }\n",
       "\n",
       "    .dataframe thead th {\n",
       "        text-align: right;\n",
       "    }\n",
       "</style>\n",
       "<table border=\"1\" class=\"dataframe\">\n",
       "  <thead>\n",
       "    <tr style=\"text-align: right;\">\n",
       "      <th></th>\n",
       "      <th>Age</th>\n",
       "      <th>Cough_Severity</th>\n",
       "      <th>Breathlessness</th>\n",
       "      <th>Fatigue</th>\n",
       "      <th>Weight_Loss</th>\n",
       "    </tr>\n",
       "  </thead>\n",
       "  <tbody>\n",
       "    <tr>\n",
       "      <th>count</th>\n",
       "      <td>20000.000000</td>\n",
       "      <td>20000.000000</td>\n",
       "      <td>20000.000000</td>\n",
       "      <td>20000.000000</td>\n",
       "      <td>20000.000000</td>\n",
       "    </tr>\n",
       "    <tr>\n",
       "      <th>mean</th>\n",
       "      <td>53.467450</td>\n",
       "      <td>4.491350</td>\n",
       "      <td>2.003450</td>\n",
       "      <td>4.508450</td>\n",
       "      <td>7.455280</td>\n",
       "    </tr>\n",
       "    <tr>\n",
       "      <th>std</th>\n",
       "      <td>20.773984</td>\n",
       "      <td>2.864723</td>\n",
       "      <td>1.417123</td>\n",
       "      <td>2.881552</td>\n",
       "      <td>4.339864</td>\n",
       "    </tr>\n",
       "    <tr>\n",
       "      <th>min</th>\n",
       "      <td>18.000000</td>\n",
       "      <td>0.000000</td>\n",
       "      <td>0.000000</td>\n",
       "      <td>0.000000</td>\n",
       "      <td>0.000000</td>\n",
       "    </tr>\n",
       "    <tr>\n",
       "      <th>25%</th>\n",
       "      <td>35.000000</td>\n",
       "      <td>2.000000</td>\n",
       "      <td>1.000000</td>\n",
       "      <td>2.000000</td>\n",
       "      <td>3.640000</td>\n",
       "    </tr>\n",
       "    <tr>\n",
       "      <th>50%</th>\n",
       "      <td>53.000000</td>\n",
       "      <td>4.000000</td>\n",
       "      <td>2.000000</td>\n",
       "      <td>5.000000</td>\n",
       "      <td>7.490000</td>\n",
       "    </tr>\n",
       "    <tr>\n",
       "      <th>75%</th>\n",
       "      <td>71.000000</td>\n",
       "      <td>7.000000</td>\n",
       "      <td>3.000000</td>\n",
       "      <td>7.000000</td>\n",
       "      <td>11.200000</td>\n",
       "    </tr>\n",
       "    <tr>\n",
       "      <th>max</th>\n",
       "      <td>89.000000</td>\n",
       "      <td>9.000000</td>\n",
       "      <td>4.000000</td>\n",
       "      <td>9.000000</td>\n",
       "      <td>15.000000</td>\n",
       "    </tr>\n",
       "  </tbody>\n",
       "</table>\n",
       "</div>"
      ],
      "text/plain": [
       "                Age  Cough_Severity  Breathlessness       Fatigue  \\\n",
       "count  20000.000000    20000.000000    20000.000000  20000.000000   \n",
       "mean      53.467450        4.491350        2.003450      4.508450   \n",
       "std       20.773984        2.864723        1.417123      2.881552   \n",
       "min       18.000000        0.000000        0.000000      0.000000   \n",
       "25%       35.000000        2.000000        1.000000      2.000000   \n",
       "50%       53.000000        4.000000        2.000000      5.000000   \n",
       "75%       71.000000        7.000000        3.000000      7.000000   \n",
       "max       89.000000        9.000000        4.000000      9.000000   \n",
       "\n",
       "        Weight_Loss  \n",
       "count  20000.000000  \n",
       "mean       7.455280  \n",
       "std        4.339864  \n",
       "min        0.000000  \n",
       "25%        3.640000  \n",
       "50%        7.490000  \n",
       "75%       11.200000  \n",
       "max       15.000000  "
      ]
     },
     "execution_count": 12,
     "metadata": {},
     "output_type": "execute_result"
    }
   ],
   "source": [
    "df.describe()"
   ]
  },
  {
   "cell_type": "markdown",
   "id": "795de762",
   "metadata": {},
   "source": [
    "Mengecek missing value"
   ]
  },
  {
   "cell_type": "code",
   "execution_count": 13,
   "id": "7913d1be",
   "metadata": {},
   "outputs": [
    {
     "data": {
      "text/plain": [
       "Patient_ID             0\n",
       "Age                    0\n",
       "Gender                 0\n",
       "Chest_Pain             0\n",
       "Cough_Severity         0\n",
       "Breathlessness         0\n",
       "Fatigue                0\n",
       "Weight_Loss            0\n",
       "Fever                  0\n",
       "Night_Sweats           0\n",
       "Sputum_Production      0\n",
       "Blood_in_Sputum        0\n",
       "Smoking_History        0\n",
       "Previous_TB_History    0\n",
       "Class                  0\n",
       "dtype: int64"
      ]
     },
     "execution_count": 13,
     "metadata": {},
     "output_type": "execute_result"
    }
   ],
   "source": [
    "df.isnull().sum()"
   ]
  },
  {
   "cell_type": "markdown",
   "id": "5e111c7f",
   "metadata": {},
   "source": [
    "Visualisasi perbandingan kelas Normal dan Tuberculosis"
   ]
  },
  {
   "cell_type": "code",
   "execution_count": 15,
   "id": "a8745baf",
   "metadata": {},
   "outputs": [
    {
     "data": {
      "image/png": "[encoded data removed]",
      "text/plain": [
       "<Figure size 640x480 with 1 Axes>"
      ]
     },
     "metadata": {},
     "output_type": "display_data"
    }
   ],
   "source": [
    "import seaborn as sns\n",
    "import matplotlib.pyplot as plt\n",
    "\n",
    "# Distribusi kelas\n",
    "sns.countplot(x='Class', data=df)\n",
    "plt.title('Distribusi Kelas (Normal vs Tuberculosis)')\n",
    "plt.show()"
   ]
  },
  {
   "cell_type": "markdown",
   "id": "2141e952",
   "metadata": {},
   "source": [
    "Visualisasi heatmap untuk melihat korelasi antar fitur numerik"
   ]
  },
  {
   "cell_type": "code",
   "execution_count": 16,
   "id": "a145d6e0",
   "metadata": {},
   "outputs": [
    {
     "data": {
      "image/png": "[encoded data removed]",
      "text/plain": [
       "<Figure size 640x480 with 2 Axes>"
      ]
     },
     "metadata": {},
     "output_type": "display_data"
    }
   ],
   "source": [
    "corr = df.corr(numeric_only=True)\n",
    "sns.heatmap(corr, annot=True, cmap='coolwarm')\n",
    "plt.title('Korelasi antar Fitur Numerik')\n",
    "plt.show()"
   ]
  }
 ],
 "metadata": {
  "kernelspec": {
   "display_name": "env",
   "language": "python",
   "name": "python3"
  },
  "language_info": {
   "codemirror_mode": {
    "name": "ipython",
    "version": 3
   },
   "file_extension": ".py",
   "mimetype": "text/x-python",
   "name": "python",
   "nbconvert_exporter": "python",
   "pygments_lexer": "ipython3",
   "version": "3.13.3"
  }
 },
 "nbformat": 4,
 "nbformat_minor": 5
}
